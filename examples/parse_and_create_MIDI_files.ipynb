{
 "cells": [
  {
   "cell_type": "code",
   "execution_count": 1,
   "metadata": {},
   "outputs": [],
   "source": [
    "import numpy as np\n",
    "\n",
    "from miditoolkit.midi import parser as mid_parser  \n",
    "from miditoolkit.midi import containers as ct"
   ]
  },
  {
   "cell_type": "markdown",
   "metadata": {},
   "source": [
    "# MIDI File Parsing and Creation\n",
    "\n",
    "This notebook will show you how to parse or create a MIDI file "
   ]
  },
  {
   "cell_type": "markdown",
   "metadata": {},
   "source": [
    "## A. Parse a MIDI file"
   ]
  },
  {
   "cell_type": "code",
   "execution_count": 2,
   "metadata": {},
   "outputs": [
    {
     "name": "stdout",
     "output_type": "stream",
     "text": [
      " > ticks per beat: 480\n",
      "\n",
      " -- time signatures -- \n",
      " > amount: 1\n",
      "4/4 at 0 ticks\n",
      "\n",
      " -- key signatures --\n",
      " > amount: 0\n",
      "\n",
      " -- tempo changes --\n",
      " > amount: 257\n",
      "85.00004250002125 BPM at 0 ticks\n",
      "\n",
      " -- markers --\n",
      " > amount: 79\n",
      "\"C#:maj\" at 0 ticks\n",
      "\n",
      " -- instruments --\n",
      " > number of tracks: 1\n",
      " > number of notes: 748\n",
      "3840 tick at 5.535648999999999 seconds\n"
     ]
    }
   ],
   "source": [
    "# load midi file\n",
    "path_midi = '../testcases/2.midi'\n",
    "mido_obj = mid_parser.MidiFile(path_midi)\n",
    "\n",
    "# ticks per beats\n",
    "print(' > ticks per beat:', mido_obj.ticks_per_beat)\n",
    "\n",
    "# signatures\n",
    "print('\\n -- time signatures -- ')\n",
    "print(' > amount:', len(mido_obj.time_signature_changes))\n",
    "print(mido_obj.time_signature_changes[0])\n",
    "\n",
    "print('\\n -- key signatures --')\n",
    "print(' > amount:', len(mido_obj.key_signature_changes))\n",
    "\n",
    "# tempo changes\n",
    "print('\\n -- tempo changes --')\n",
    "print(' > amount:', len(mido_obj.tempo_changes))\n",
    "print(mido_obj.tempo_changes[0])\n",
    "\n",
    "# markers\n",
    "print('\\n -- markers --')\n",
    "print(' > amount:', len(mido_obj.markers))\n",
    "print(mido_obj.markers[0])\n",
    "\n",
    "# instruments\n",
    "print('\\n -- instruments --')\n",
    "print(' > number of tracks:', len(mido_obj.instruments))\n",
    "print(' > number of notes:', len(mido_obj.instruments[0].notes))\n",
    "\n",
    "# convert to seconds\n",
    "note = mido_obj.instruments[0].notes[20]\n",
    "mapping = mido_obj.get_tick_to_time_mapping()\n",
    "tick = note.start\n",
    "sec = mapping[tick]\n",
    "print('{} tick at {} seconds'.format(tick, sec))"
   ]
  },
  {
   "cell_type": "markdown",
   "metadata": {},
   "source": [
    "## B. Crop a segment"
   ]
  },
  {
   "cell_type": "code",
   "execution_count": 3,
   "metadata": {},
   "outputs": [],
   "source": [
    "# load midi file\n",
    "path_midi = 'testcases/2.midi'\n",
    "mido_obj = mid_parser.MidiFile(path_midi)\n",
    "beat_resol = mido_obj.ticks_per_beat\n",
    "\n",
    "# define interval: from 2nd to 8th bar\n",
    "st = beat_resol * 4 * 2\n",
    "ed = beat_resol * 4 * 8\n",
    "\n",
    "# export\n",
    "mido_obj.dump('seg.midi', segment=(st, ed))"
   ]
  },
  {
   "cell_type": "markdown",
   "metadata": {},
   "source": [
    "## C. Create an empty MIDI file"
   ]
  },
  {
   "cell_type": "code",
   "execution_count": 4,
   "metadata": {},
   "outputs": [
    {
     "name": "stdout",
     "output_type": "stream",
     "text": [
      "Note(start=0, end=240, pitch=60, velocity=118)\n",
      "Note(start=240, end=480, pitch=61, velocity=24)\n",
      "Note(start=480, end=720, pitch=62, velocity=26)\n",
      "Note(start=720, end=960, pitch=63, velocity=123)\n",
      "Note(start=960, end=1200, pitch=64, velocity=58)\n",
      "Note(start=1200, end=1440, pitch=65, velocity=47)\n",
      "Note(start=1440, end=1680, pitch=66, velocity=67)\n",
      "Note(start=1680, end=1920, pitch=67, velocity=83)\n",
      "Note(start=1920, end=2160, pitch=68, velocity=49)\n",
      "Note(start=2160, end=2400, pitch=69, velocity=37)\n",
      "\n",
      "marker: [Marker(text=\"HI\", time=0)]\n"
     ]
    }
   ],
   "source": [
    "# create an empty file\n",
    "mido_obj = mid_parser.MidiFile()\n",
    "beat_resol = mido_obj.ticks_per_beat\n",
    "\n",
    "# create an  instrument\n",
    "track = ct.Instrument(program=0, is_drum=False, name='example track')\n",
    "mido_obj.instruments = [track]\n",
    "\n",
    "# create eighth notes\n",
    "duration = int(beat_resol * 0.5)\n",
    "prev_end = 0\n",
    "pitch = 60\n",
    "for i in range(10):\n",
    "    # create one note\n",
    "    start = prev_end\n",
    "    end = prev_end + duration\n",
    "    pitch = pitch\n",
    "    velocity = np.random.randint(1, 127)\n",
    "    note = ct.Note(start=start, end=end, pitch=pitch, velocity=velocity)\n",
    "    mido_obj.instruments[0].notes.append(note)\n",
    "    \n",
    "    # prepare next\n",
    "    prev_end = end\n",
    "    pitch += 1\n",
    "\n",
    "# create markers\n",
    "marker_hi = ct.Marker(time=0, text='HI')\n",
    "mido_obj.markers.append(marker_hi)\n",
    "\n",
    "# write to file\n",
    "mido_obj.dump('result.midi')\n",
    "\n",
    "# reload for check\n",
    "mido_obj_re = mid_parser.MidiFile('result.midi')\n",
    "for note in mido_obj_re.instruments[0].notes:\n",
    "    print(note)\n",
    "\n",
    "print('\\nmarker:', mido_obj_re.markers)"
   ]
  }
 ],
 "metadata": {
  "kernelspec": {
   "display_name": "Python 3",
   "language": "python",
   "name": "python3"
  },
  "language_info": {
   "codemirror_mode": {
    "name": "ipython",
    "version": 3
   },
   "file_extension": ".py",
   "mimetype": "text/x-python",
   "name": "python",
   "nbconvert_exporter": "python",
   "pygments_lexer": "ipython3",
   "version": "3.7.3"
  }
 },
 "nbformat": 4,
 "nbformat_minor": 2
}
